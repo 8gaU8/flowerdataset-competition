{
 "cells": [
  {
   "cell_type": "code",
   "execution_count": 9,
   "metadata": {},
   "outputs": [
    {
     "name": "stdout",
     "output_type": "stream",
     "text": [
      "Found 200 files belonging to 10 classes.\n"
     ]
    }
   ],
   "source": [
    "from keras.utils import image_dataset_from_directory\n",
    "\n",
    "def base_preprocess(image, label):\n",
    "    image = image / 255.0\n",
    "    return image, label\n",
    "\n",
    "batch_size = 32\n",
    "img_size = (128, 128)\n",
    "\n",
    "test_dataset = image_dataset_from_directory(\n",
    "    \"./Test\",\n",
    "    image_size=img_size,\n",
    "    batch_size=batch_size,\n",
    "    label_mode=\"categorical\",\n",
    "    shuffle=False,\n",
    ")\n",
    "test_dataset = test_dataset.map(base_preprocess)"
   ]
  },
  {
   "cell_type": "code",
   "execution_count": 10,
   "metadata": {},
   "outputs": [
    {
     "name": "stdout",
     "output_type": "stream",
     "text": [
      "7/7 [==============================] - 0s 11ms/step - loss: 1.3592 - accuracy: 0.6700\n",
      "Test Accuracy: 0.6700\n"
     ]
    }
   ],
   "source": [
    "from keras.models import load_model\n",
    "\n",
    "\n",
    "# ベストモデルをロード\n",
    "path = 'best_scratch_model.h5'\n",
    "best_model = load_model(path)\n",
    "\n",
    "# テストデータで評価\n",
    "test_loss, test_acc = best_model.evaluate(test_dataset)\n",
    "print(f\"Test Accuracy: {test_acc:.4f}\")"
   ]
  }
 ],
 "metadata": {
  "kernelspec": {
   "display_name": "py39",
   "language": "python",
   "name": "python3"
  },
  "language_info": {
   "codemirror_mode": {
    "name": "ipython",
    "version": 3
   },
   "file_extension": ".py",
   "mimetype": "text/x-python",
   "name": "python",
   "nbconvert_exporter": "python",
   "pygments_lexer": "ipython3",
   "version": "3.9.21"
  }
 },
 "nbformat": 4,
 "nbformat_minor": 2
}
